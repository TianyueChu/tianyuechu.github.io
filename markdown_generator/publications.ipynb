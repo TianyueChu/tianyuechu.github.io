{
 "cells": [
  {
   "cell_type": "markdown",
   "metadata": {
    "deletable": true,
    "editable": true
   },
   "source": [
    "# Publications markdown generator for academicpages\n",
    "\n",
    "Takes a TSV of publications with metadata and converts them for use with [academicpages.github.io](academicpages.github.io). This is an interactive Jupyter notebook ([see more info here](http://jupyter-notebook-beginner-guide.readthedocs.io/en/latest/what_is_jupyter.html)). The core python code is also in `publications.py`. Run either from the `markdown_generator` folder after replacing `publications.tsv` with one containing your data.\n",
    "\n",
    "TODO: Make this work with BibTex and other databases of citations, rather than Stuart's non-standard TSV format and citation style.\n"
   ]
  },
  {
   "cell_type": "markdown",
   "metadata": {},
   "source": [
    "## Data format\n",
    "\n",
    "The TSV needs to have the following columns: pub_date, title, venue, excerpt, citation, site_url, and paper_url, with a header at the top. \n",
    "\n",
    "- `excerpt` and `paper_url` can be blank, but the others must have values. \n",
    "- `pub_date` must be formatted as YYYY-MM-DD.\n",
    "- `url_slug` will be the descriptive part of the .md file and the permalink URL for the page about the paper. The .md file will be `YYYY-MM-DD-[url_slug].md` and the permalink will be `https://[yourdomain]/publications/YYYY-MM-DD-[url_slug]`\n",
    "\n",
    "This is how the raw file looks (it doesn't look pretty, use a spreadsheet or other program to edit and create)."
   ]
  },
  {
   "cell_type": "code",
   "metadata": {
    "collapsed": false,
    "ExecuteTime": {
     "end_time": "2024-11-29T12:02:06.217535Z",
     "start_time": "2024-11-29T12:02:05.440376Z"
    }
   },
   "source": [
    "!cat publications.tsv"
   ],
   "outputs": [
    {
     "name": "stdout",
     "output_type": "stream",
     "text": [
      "pub_date\ttitle\tvenue\texcerpt\tcitation\turl_slug\tpaper_url\tslides_url\r\n",
      "2024-11-02\tPriPrune: Quantifying and Preserving Privacy in Pruned Federated Learning\tACM Transactions on Modeling and Performance Evaluation of Computing Systems\tIn this paper, we first characterize the privacy offered by pruning. We establish information-theoretic upper bounds on the information leakage from pruned FL and we experimentally validate them under state-of-the-art privacy attacks across different FL pruning schemes. Second, we introduce PriPruneś a privacy-aware algorithm for pruning in FL. PriPrune uses defense pruning masks, which can be applied locally after any pruning algorithm, and adapts the defense pruning rate to jointly optimize privacy and accuracy. Another key idea in the design of PriPrune is Pseudo-Pruning: it undergoes defense pruning within the local model and only sends the pruned model to the server; while the weights pruned out by defense mask are withheld locally for future local training rather than being removed.\tTianyue, Chu. (2024). \"PriPrune: Quantifying and Preserving Privacy in Pruned Federated Learning.\" <i>ACM Transactions on Modeling and Performance Evaluation of Computing Systems</i>. 1(1).\thttps://dl.acm.org/doi/abs/10.1145/3702241\thttp://academicpages.github.io/files/paper1.pdf\thttp://academicpages.github.io/files/slides1.pdf\r\n",
      "2024-06-13\tFedQV: Leveraging Quadratic Voting in Federated Learning\t2024 ACM SIGMETRICS/IFIP PERFORMANCE\t In this paper, we propose FEDQV, a novel aggregation algorithm built upon the quadratic voting scheme, recently proposed as a better alternative to 1p1v-based elections. Our theoretical analysis establishes that FEDQV is a truthful mechanism in which bidding according to one’s true valuation is a dominant strategy that achieves a convergence rate that matches those of state-of-the-art methods. Furthermore, our empirical analysis using multiple real-world datasets validates the superior performance of FEDQV against poisoning attacks. It also shows that combining FEDQV with unequal voting “budgets” according to a reputation score increases its performance benefits even further. Finally, we show that FEDQV can be easily combined with Byzantine-robust privacy-preserving mechanisms to enhance its robustness against both poisoning and privacy attacks.\tTianyue, Chu. (2024). \"FEDQV: Leveraging Quadratic Voting In Federated Learning.\" <i>ACM SIGMETRICS 2024 </i>.\thttps://dl.acm.org/doi/abs/10.1145/3656006\thttp://academicpages.github.io/files/paper2.pdf\thttp://academicpages.github.io/files/slides2.pdf\r\n",
      "2023-02-27\tSecuring Federated Sensitive Topic Classification against Poisoning Attacks\t30th Annual Network and Distributed System Security Symposium, NDSS 2023\tWe present a Federated Learning (FL) based solution for building a distributed classifier capable of detecting URLs containing GDPR-sensitive content related to categories such as health, sexual preference, political beliefs, etc. Although such a classifier addresses the limitations of previous offline/centralised classifiers,it is still vulnerable to poisoning attacks from malicious users that may attempt to reduce the accuracy for benign users by disseminating faulty model updates. To guard against this, we develop a robust aggregation scheme based on subjective logic and residual-based attack detection. Employing a combination of theoretical analysis, trace-driven simulation, as well as experimental validation with a prototype and real users, we show that our classifier can detect sensitive content with high accuracy, learn new labels fast, and remain robust in view of poisoning attacks from malicious users, as well as imperfect input from non-malicious ones.\tTianyue Chu(2023). \"Securing Federated Sensitive Topic Classification against Poisoning Attacks.\" <i>30th Annual Network and Distributed System Security Symposium, NDSS 2023</i>. San Diego, California, USA, February 27 - March 3, 2023.\thttps://www.ndss-symposium.org/wp-content/uploads/2023/02/ndss2023_s112_paper.pdf\thttp://academicpages.github.io/files/paper3.pdf\thttp://academicpages.github.io/files/slides3.pdf"
     ]
    }
   ],
   "execution_count": 1
  },
  {
   "cell_type": "markdown",
   "metadata": {},
   "source": [
    "## Import pandas\n",
    "\n",
    "We are using the very handy pandas library for dataframes."
   ]
  },
  {
   "cell_type": "code",
   "metadata": {
    "collapsed": true,
    "deletable": true,
    "editable": true,
    "ExecuteTime": {
     "end_time": "2024-11-29T12:02:20.668040Z",
     "start_time": "2024-11-29T12:02:20.000249Z"
    }
   },
   "source": [
    "import pandas as pd"
   ],
   "outputs": [],
   "execution_count": 2
  },
  {
   "cell_type": "markdown",
   "metadata": {},
   "source": [
    "## Import TSV\n",
    "\n",
    "Pandas makes this easy with the read_csv function. We are using a TSV, so we specify the separator as a tab, or `\\t`.\n",
    "\n",
    "I found it important to put this data in a tab-separated values format, because there are a lot of commas in this kind of data and comma-separated values can get messed up. However, you can modify the import statement, as pandas also has read_excel(), read_json(), and others."
   ]
  },
  {
   "cell_type": "code",
   "metadata": {
    "collapsed": false,
    "deletable": true,
    "editable": true,
    "ExecuteTime": {
     "end_time": "2024-11-29T12:02:22.834614Z",
     "start_time": "2024-11-29T12:02:22.798567Z"
    }
   },
   "source": [
    "publications = pd.read_csv(\"publications.tsv\", sep=\"\\t\", header=0)\n",
    "publications\n"
   ],
   "outputs": [
    {
     "data": {
      "text/plain": [
       "     pub_date                                              title  \\\n",
       "0  2024-11-02  PriPrune: Quantifying and Preserving Privacy i...   \n",
       "1  2024-06-13  FedQV: Leveraging Quadratic Voting in Federate...   \n",
       "2  2023-02-27  Securing Federated Sensitive Topic Classificat...   \n",
       "\n",
       "                                               venue  \\\n",
       "0  ACM Transactions on Modeling and Performance E...   \n",
       "1               2024 ACM SIGMETRICS/IFIP PERFORMANCE   \n",
       "2  30th Annual Network and Distributed System Sec...   \n",
       "\n",
       "                                             excerpt  \\\n",
       "0  In this paper, we first characterize the priva...   \n",
       "1   In this paper, we propose FEDQV, a novel aggr...   \n",
       "2  We present a Federated Learning (FL) based sol...   \n",
       "\n",
       "                                            citation  \\\n",
       "0  Tianyue, Chu. (2024). \"PriPrune: Quantifying a...   \n",
       "1  Tianyue, Chu. (2024). \"FEDQV: Leveraging Quadr...   \n",
       "2  Tianyue Chu(2023). \"Securing Federated Sensiti...   \n",
       "\n",
       "                                            url_slug  \\\n",
       "0         https://dl.acm.org/doi/abs/10.1145/3702241   \n",
       "1         https://dl.acm.org/doi/abs/10.1145/3656006   \n",
       "2  https://www.ndss-symposium.org/wp-content/uplo...   \n",
       "\n",
       "                                         paper_url  \\\n",
       "0  http://academicpages.github.io/files/paper1.pdf   \n",
       "1  http://academicpages.github.io/files/paper2.pdf   \n",
       "2  http://academicpages.github.io/files/paper3.pdf   \n",
       "\n",
       "                                         slides_url  \n",
       "0  http://academicpages.github.io/files/slides1.pdf  \n",
       "1  http://academicpages.github.io/files/slides2.pdf  \n",
       "2  http://academicpages.github.io/files/slides3.pdf  "
      ],
      "text/html": [
       "<div>\n",
       "<style scoped>\n",
       "    .dataframe tbody tr th:only-of-type {\n",
       "        vertical-align: middle;\n",
       "    }\n",
       "\n",
       "    .dataframe tbody tr th {\n",
       "        vertical-align: top;\n",
       "    }\n",
       "\n",
       "    .dataframe thead th {\n",
       "        text-align: right;\n",
       "    }\n",
       "</style>\n",
       "<table border=\"1\" class=\"dataframe\">\n",
       "  <thead>\n",
       "    <tr style=\"text-align: right;\">\n",
       "      <th></th>\n",
       "      <th>pub_date</th>\n",
       "      <th>title</th>\n",
       "      <th>venue</th>\n",
       "      <th>excerpt</th>\n",
       "      <th>citation</th>\n",
       "      <th>url_slug</th>\n",
       "      <th>paper_url</th>\n",
       "      <th>slides_url</th>\n",
       "    </tr>\n",
       "  </thead>\n",
       "  <tbody>\n",
       "    <tr>\n",
       "      <th>0</th>\n",
       "      <td>2024-11-02</td>\n",
       "      <td>PriPrune: Quantifying and Preserving Privacy i...</td>\n",
       "      <td>ACM Transactions on Modeling and Performance E...</td>\n",
       "      <td>In this paper, we first characterize the priva...</td>\n",
       "      <td>Tianyue, Chu. (2024). \"PriPrune: Quantifying a...</td>\n",
       "      <td>https://dl.acm.org/doi/abs/10.1145/3702241</td>\n",
       "      <td>http://academicpages.github.io/files/paper1.pdf</td>\n",
       "      <td>http://academicpages.github.io/files/slides1.pdf</td>\n",
       "    </tr>\n",
       "    <tr>\n",
       "      <th>1</th>\n",
       "      <td>2024-06-13</td>\n",
       "      <td>FedQV: Leveraging Quadratic Voting in Federate...</td>\n",
       "      <td>2024 ACM SIGMETRICS/IFIP PERFORMANCE</td>\n",
       "      <td>In this paper, we propose FEDQV, a novel aggr...</td>\n",
       "      <td>Tianyue, Chu. (2024). \"FEDQV: Leveraging Quadr...</td>\n",
       "      <td>https://dl.acm.org/doi/abs/10.1145/3656006</td>\n",
       "      <td>http://academicpages.github.io/files/paper2.pdf</td>\n",
       "      <td>http://academicpages.github.io/files/slides2.pdf</td>\n",
       "    </tr>\n",
       "    <tr>\n",
       "      <th>2</th>\n",
       "      <td>2023-02-27</td>\n",
       "      <td>Securing Federated Sensitive Topic Classificat...</td>\n",
       "      <td>30th Annual Network and Distributed System Sec...</td>\n",
       "      <td>We present a Federated Learning (FL) based sol...</td>\n",
       "      <td>Tianyue Chu(2023). \"Securing Federated Sensiti...</td>\n",
       "      <td>https://www.ndss-symposium.org/wp-content/uplo...</td>\n",
       "      <td>http://academicpages.github.io/files/paper3.pdf</td>\n",
       "      <td>http://academicpages.github.io/files/slides3.pdf</td>\n",
       "    </tr>\n",
       "  </tbody>\n",
       "</table>\n",
       "</div>"
      ]
     },
     "execution_count": 3,
     "metadata": {},
     "output_type": "execute_result"
    }
   ],
   "execution_count": 3
  },
  {
   "cell_type": "markdown",
   "metadata": {},
   "source": [
    "## Escape special characters\n",
    "\n",
    "YAML is very picky about how it takes a valid string, so we are replacing single and double quotes (and ampersands) with their HTML encoded equivilents. This makes them look not so readable in raw format, but they are parsed and rendered nicely."
   ]
  },
  {
   "cell_type": "code",
   "metadata": {
    "collapsed": true,
    "deletable": true,
    "editable": true,
    "ExecuteTime": {
     "end_time": "2024-11-29T12:02:37.161134Z",
     "start_time": "2024-11-29T12:02:37.153048Z"
    }
   },
   "source": [
    "html_escape_table = {\n",
    "    \"&\": \"&amp;\",\n",
    "    '\"': \"&quot;\",\n",
    "    \"'\": \"&apos;\"\n",
    "    }\n",
    "\n",
    "def html_escape(text):\n",
    "    \"\"\"Produce entities within text.\"\"\"\n",
    "    return \"\".join(html_escape_table.get(c,c) for c in text)"
   ],
   "outputs": [],
   "execution_count": 4
  },
  {
   "cell_type": "markdown",
   "metadata": {},
   "source": [
    "## Creating the markdown files\n",
    "\n",
    "This is where the heavy lifting is done. This loops through all the rows in the TSV dataframe, then starts to concatentate a big string (```md```) that contains the markdown for each type. It does the YAML metadata first, then does the description for the individual page."
   ]
  },
  {
   "cell_type": "code",
   "metadata": {
    "collapsed": false,
    "deletable": true,
    "editable": true,
    "ExecuteTime": {
     "end_time": "2024-11-29T12:02:39.686324Z",
     "start_time": "2024-11-29T12:02:39.672393Z"
    }
   },
   "source": [
    "import os\n",
    "for row, item in publications.iterrows():\n",
    "    \n",
    "    md_filename = str(item.pub_date) + \"-\" + item.url_slug + \".md\"\n",
    "    html_filename = str(item.pub_date) + \"-\" + item.url_slug\n",
    "    year = item.pub_date[:4]\n",
    "    \n",
    "    ## YAML variables\n",
    "    \n",
    "    md = \"---\\ntitle: \\\"\"   + item.title + '\"\\n'\n",
    "    \n",
    "    md += \"\"\"collection: publications\"\"\"\n",
    "    \n",
    "    md += \"\"\"\\npermalink: /publication/\"\"\" + html_filename\n",
    "    \n",
    "    if len(str(item.excerpt)) > 5:\n",
    "        md += \"\\nexcerpt: '\" + html_escape(item.excerpt) + \"'\"\n",
    "    \n",
    "    md += \"\\ndate: \" + str(item.pub_date) \n",
    "    \n",
    "    md += \"\\nvenue: '\" + html_escape(item.venue) + \"'\"\n",
    "    \n",
    "    if len(str(item.slides_url)) > 5:\n",
    "        md += \"\\nslidesurl: '\" + item.slides_url + \"'\"\n",
    "\n",
    "    if len(str(item.paper_url)) > 5:\n",
    "        md += \"\\npaperurl: '\" + item.paper_url + \"'\"\n",
    "    \n",
    "    md += \"\\ncitation: '\" + html_escape(item.citation) + \"'\"\n",
    "    \n",
    "    md += \"\\n---\"\n",
    "    \n",
    "    ## Markdown description for individual page\n",
    "        \n",
    "    if len(str(item.excerpt)) > 5:\n",
    "        md += \"\\n\" + html_escape(item.excerpt) + \"\\n\"\n",
    "\n",
    "    if len(str(item.slides_url)) > 5:\n",
    "        md += \"\\n[Download slides here](\" + item.slides_url + \")\\n\" \n",
    "\n",
    "    if len(str(item.paper_url)) > 5:\n",
    "        md += \"\\n[Download paper here](\" + item.paper_url + \")\\n\" \n",
    "        \n",
    "    md += \"\\nRecommended citation: \" + item.citation\n",
    "    \n",
    "    md_filename = os.path.basename(md_filename)\n",
    "       \n",
    "    with open(\"../_publications/\" + md_filename, 'w') as f:\n",
    "        f.write(md)"
   ],
   "outputs": [],
   "execution_count": 5
  },
  {
   "cell_type": "markdown",
   "metadata": {},
   "source": [
    "These files are in the publications directory, one directory below where we're working from."
   ]
  },
  {
   "cell_type": "code",
   "metadata": {
    "collapsed": false,
    "deletable": true,
    "editable": true,
    "ExecuteTime": {
     "end_time": "2024-11-29T12:02:45.042214Z",
     "start_time": "2024-11-29T12:02:44.159989Z"
    }
   },
   "source": [
    "!ls ../_publications/"
   ],
   "outputs": [
    {
     "name": "stdout",
     "output_type": "stream",
     "text": [
      "2009-10-01-paper-title-number-1.md  3656006.md\r\n",
      "2010-10-01-paper-title-number-2.md  3702241.md\r\n",
      "2015-10-01-paper-title-number-3.md  ndss2023_s112_paper.pdf.md\r\n",
      "2024-02-17-paper-title-number-4.md\r\n"
     ]
    }
   ],
   "execution_count": 6
  },
  {
   "cell_type": "code",
   "metadata": {
    "collapsed": false,
    "deletable": true,
    "editable": true,
    "ExecuteTime": {
     "end_time": "2024-11-29T12:03:24.047922Z",
     "start_time": "2024-11-29T12:03:23.183880Z"
    }
   },
   "source": "!cat ../_publications/ndss2023_s112_paper.pdf.md",
   "outputs": [
    {
     "name": "stdout",
     "output_type": "stream",
     "text": [
      "---\r\n",
      "title: \"Securing Federated Sensitive Topic Classification against Poisoning Attacks\"\r\n",
      "collection: publications\r\n",
      "permalink: /publication/2023-02-27-https://www.ndss-symposium.org/wp-content/uploads/2023/02/ndss2023_s112_paper.pdf\r\n",
      "excerpt: 'We present a Federated Learning (FL) based solution for building a distributed classifier capable of detecting URLs containing GDPR-sensitive content related to categories such as health, sexual preference, political beliefs, etc. Although such a classifier addresses the limitations of previous offline/centralised classifiers,it is still vulnerable to poisoning attacks from malicious users that may attempt to reduce the accuracy for benign users by disseminating faulty model updates. To guard against this, we develop a robust aggregation scheme based on subjective logic and residual-based attack detection. Employing a combination of theoretical analysis, trace-driven simulation, as well as experimental validation with a prototype and real users, we show that our classifier can detect sensitive content with high accuracy, learn new labels fast, and remain robust in view of poisoning attacks from malicious users, as well as imperfect input from non-malicious ones.'\r\n",
      "date: 2023-02-27\r\n",
      "venue: '30th Annual Network and Distributed System Security Symposium, NDSS 2023'\r\n",
      "slidesurl: 'http://academicpages.github.io/files/slides3.pdf'\r\n",
      "paperurl: 'http://academicpages.github.io/files/paper3.pdf'\r\n",
      "citation: 'Tianyue Chu(2023). &quot;Securing Federated Sensitive Topic Classification against Poisoning Attacks.&quot; <i>30th Annual Network and Distributed System Security Symposium, NDSS 2023</i>. San Diego, California, USA, February 27 - March 3, 2023.'\r\n",
      "---\r\n",
      "We present a Federated Learning (FL) based solution for building a distributed classifier capable of detecting URLs containing GDPR-sensitive content related to categories such as health, sexual preference, political beliefs, etc. Although such a classifier addresses the limitations of previous offline/centralised classifiers,it is still vulnerable to poisoning attacks from malicious users that may attempt to reduce the accuracy for benign users by disseminating faulty model updates. To guard against this, we develop a robust aggregation scheme based on subjective logic and residual-based attack detection. Employing a combination of theoretical analysis, trace-driven simulation, as well as experimental validation with a prototype and real users, we show that our classifier can detect sensitive content with high accuracy, learn new labels fast, and remain robust in view of poisoning attacks from malicious users, as well as imperfect input from non-malicious ones.\r\n",
      "\r\n",
      "[Download slides here](http://academicpages.github.io/files/slides3.pdf)\r\n",
      "\r\n",
      "[Download paper here](http://academicpages.github.io/files/paper3.pdf)\r\n",
      "\r\n",
      "Recommended citation: Tianyue Chu(2023). \"Securing Federated Sensitive Topic Classification against Poisoning Attacks.\" <i>30th Annual Network and Distributed System Security Symposium, NDSS 2023</i>. San Diego, California, USA, February 27 - March 3, 2023."
     ]
    }
   ],
   "execution_count": 7
  },
  {
   "cell_type": "code",
   "execution_count": null,
   "metadata": {
    "collapsed": true,
    "deletable": true,
    "editable": true
   },
   "outputs": [],
   "source": []
  }
 ],
 "metadata": {
  "kernelspec": {
   "display_name": "Python 3",
   "language": "python",
   "name": "python3"
  },
  "language_info": {
   "codemirror_mode": {
    "name": "ipython",
    "version": 3
   },
   "file_extension": ".py",
   "mimetype": "text/x-python",
   "name": "python",
   "nbconvert_exporter": "python",
   "pygments_lexer": "ipython3",
   "version": "3.6.1"
  }
 },
 "nbformat": 4,
 "nbformat_minor": 0
}
